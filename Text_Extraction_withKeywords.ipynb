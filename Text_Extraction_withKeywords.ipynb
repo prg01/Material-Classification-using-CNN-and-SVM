{
 "cells": [
  {
   "cell_type": "markdown",
   "metadata": {},
   "source": [
    "# Text Extraction"
   ]
  },
  {
   "cell_type": "markdown",
   "metadata": {},
   "source": [
    "#### Reference Code:\n",
    " * https://github.com/SridharPandian/Smart-PDF-Engine/blob/master/Keyword_extractor.py\n",
    " * https://github.com/rajeshshanmugam-s/Keyword-Extraction-using-NLTK/blob/master/Textract.ipynb\n",
    " * https://stackoverflow.com/questions/17098675/searching-text-in-a-pdf-using-python\n",
    " * https://github.com/mstamy2/PyPDF2/issues/254"
   ]
  },
  {
   "cell_type": "code",
   "execution_count": 1,
   "metadata": {},
   "outputs": [],
   "source": [
    "#!pip install pyPDF2"
   ]
  },
  {
   "cell_type": "code",
   "execution_count": 2,
   "metadata": {},
   "outputs": [],
   "source": [
    "import os\n",
    "import glob\n",
    "import pandas as pd\n",
    "import numpy as np\n",
    "\n",
    "import PyPDF2 as pdf\n",
    "import pandas as pd\n",
    "import textract\n",
    "\n",
    "from nltk.tokenize import word_tokenize\n",
    "from nltk.tokenize import RegexpTokenizer\n",
    "from nltk.corpus import stopwords\n",
    "import nltk\n",
    "\n",
    "from pathlib import Path\n",
    "from collections import Counter\n",
    "\n",
    "import re"
   ]
  },
  {
   "cell_type": "code",
   "execution_count": 3,
   "metadata": {},
   "outputs": [],
   "source": [
    "import sys\n",
    "\n",
    "if not sys.warnoptions:\n",
    "    import warnings\n",
    "    warnings.simplefilter(\"ignore\")"
   ]
  },
  {
   "cell_type": "code",
   "execution_count": 4,
   "metadata": {},
   "outputs": [],
   "source": [
    "#nltk.download('stopwords')"
   ]
  },
  {
   "cell_type": "code",
   "execution_count": 5,
   "metadata": {},
   "outputs": [],
   "source": [
    "files_path=\"./data/\"\n",
    "pdf_files= glob.glob(os.path.join(files_path,\"*.pdf\"))"
   ]
  },
  {
   "cell_type": "markdown",
   "metadata": {},
   "source": [
    "#### [INFO] PDF with issues while using pyPDF2 (TypeError: ord() expected string of length 1, but int found)\n",
    "\n",
    "* Short fiber reinforced composites for fused deposition modeling.pdf\n",
    "* Modeling of Multiple Pore Ceramic Materials Fabricated Via Fused Deposition Process.pdf"
   ]
  },
  {
   "cell_type": "code",
   "execution_count": 6,
   "metadata": {},
   "outputs": [],
   "source": [
    "read_pdfs = []\n",
    "for i in pdf_files:\n",
    "    file = open(i, 'rb')\n",
    "    pdf_file = pdf.PdfFileReader(file)\n",
    "    read_pdfs.append(pdf_file)"
   ]
  },
  {
   "cell_type": "code",
   "execution_count": 7,
   "metadata": {},
   "outputs": [
    {
     "name": "stdout",
     "output_type": "stream",
     "text": [
      "117\n"
     ]
    }
   ],
   "source": [
    "length = len(read_pdfs)\n",
    "print(length)\n",
    "\n",
    "pdf_id = list(range(1, length+1))"
   ]
  },
  {
   "cell_type": "code",
   "execution_count": 8,
   "metadata": {},
   "outputs": [],
   "source": [
    "pdf_files = [x.replace(files_path, \"\") for x in pdf_files]\n",
    "pdf_files = [x.replace(\".pdf\", \"\") for x in pdf_files]"
   ]
  },
  {
   "cell_type": "code",
   "execution_count": 9,
   "metadata": {},
   "outputs": [
    {
     "name": "stdout",
     "output_type": "stream",
     "text": [
      "(117, 3)\n"
     ]
    },
    {
     "data": {
      "text/html": [
       "<div>\n",
       "<style scoped>\n",
       "    .dataframe tbody tr th:only-of-type {\n",
       "        vertical-align: middle;\n",
       "    }\n",
       "\n",
       "    .dataframe tbody tr th {\n",
       "        vertical-align: top;\n",
       "    }\n",
       "\n",
       "    .dataframe thead th {\n",
       "        text-align: right;\n",
       "    }\n",
       "</style>\n",
       "<table border=\"1\" class=\"dataframe\">\n",
       "  <thead>\n",
       "    <tr style=\"text-align: right;\">\n",
       "      <th></th>\n",
       "      <th>pdf_id</th>\n",
       "      <th>pdf_files</th>\n",
       "      <th>read_pdfs</th>\n",
       "    </tr>\n",
       "  </thead>\n",
       "  <tbody>\n",
       "    <tr>\n",
       "      <td>0</td>\n",
       "      <td>1</td>\n",
       "      <td>The Effects of Processing Parameters on Defect...</td>\n",
       "      <td>&lt;PyPDF2.pdf.PdfFileReader object at 0x7fa35168...</td>\n",
       "    </tr>\n",
       "    <tr>\n",
       "      <td>1</td>\n",
       "      <td>2</td>\n",
       "      <td>3D Printed Glass Surface Finish and Bulk Prope...</td>\n",
       "      <td>&lt;PyPDF2.pdf.PdfFileReader object at 0x7fa35167...</td>\n",
       "    </tr>\n",
       "    <tr>\n",
       "      <td>2</td>\n",
       "      <td>3</td>\n",
       "      <td>Numerical study on the effects of hierarchical...</td>\n",
       "      <td>&lt;PyPDF2.pdf.PdfFileReader object at 0x7fa3510a...</td>\n",
       "    </tr>\n",
       "    <tr>\n",
       "      <td>3</td>\n",
       "      <td>4</td>\n",
       "      <td>Comparison of Residual Stresses in Inconel 718...</td>\n",
       "      <td>&lt;PyPDF2.pdf.PdfFileReader object at 0x7fa35167...</td>\n",
       "    </tr>\n",
       "    <tr>\n",
       "      <td>4</td>\n",
       "      <td>5</td>\n",
       "      <td>Fatigue characterization of Titanium Ti-6Al-4V...</td>\n",
       "      <td>&lt;PyPDF2.pdf.PdfFileReader object at 0x7fa35167...</td>\n",
       "    </tr>\n",
       "  </tbody>\n",
       "</table>\n",
       "</div>"
      ],
      "text/plain": [
       "   pdf_id                                          pdf_files  \\\n",
       "0       1  The Effects of Processing Parameters on Defect...   \n",
       "1       2  3D Printed Glass Surface Finish and Bulk Prope...   \n",
       "2       3  Numerical study on the effects of hierarchical...   \n",
       "3       4  Comparison of Residual Stresses in Inconel 718...   \n",
       "4       5  Fatigue characterization of Titanium Ti-6Al-4V...   \n",
       "\n",
       "                                           read_pdfs  \n",
       "0  <PyPDF2.pdf.PdfFileReader object at 0x7fa35168...  \n",
       "1  <PyPDF2.pdf.PdfFileReader object at 0x7fa35167...  \n",
       "2  <PyPDF2.pdf.PdfFileReader object at 0x7fa3510a...  \n",
       "3  <PyPDF2.pdf.PdfFileReader object at 0x7fa35167...  \n",
       "4  <PyPDF2.pdf.PdfFileReader object at 0x7fa35167...  "
      ]
     },
     "execution_count": 9,
     "metadata": {},
     "output_type": "execute_result"
    }
   ],
   "source": [
    "df = pd.DataFrame( { 'pdf_id': pdf_id , 'pdf_files': pdf_files, 'read_pdfs': read_pdfs } )\n",
    "\n",
    "print(df.shape)\n",
    "df.head(5)"
   ]
  },
  {
   "cell_type": "code",
   "execution_count": 10,
   "metadata": {},
   "outputs": [],
   "source": [
    "df.to_csv( 'material_classification.csv' , index = False )"
   ]
  },
  {
   "cell_type": "code",
   "execution_count": 11,
   "metadata": {},
   "outputs": [],
   "source": [
    "page_count = []\n",
    "for i in read_pdfs:\n",
    "    page_count.append(i.getNumPages())"
   ]
  },
  {
   "cell_type": "code",
   "execution_count": 12,
   "metadata": {},
   "outputs": [
    {
     "name": "stdout",
     "output_type": "stream",
     "text": [
      "Done\n"
     ]
    }
   ],
   "source": [
    "pdf_text = []\n",
    "for i in read_pdfs:\n",
    "    count = 0\n",
    "    text = \"\"\n",
    "    while count < i.getNumPages():\n",
    "        pageObj = i.getPage(count)\n",
    "        count+=1\n",
    "        text += pageObj.extractText()\n",
    "    pdf_text.append(text)\n",
    "    \n",
    "print('Done')"
   ]
  },
  {
   "cell_type": "code",
   "execution_count": 13,
   "metadata": {},
   "outputs": [],
   "source": [
    "def KeywordSearchInPDF(filename, search_words):\n",
    "    count = 0\n",
    "    text = \"\"\n",
    "    while count < filename.getNumPages():\n",
    "        pageObj = filename.getPage(count)\n",
    "        count +=1\n",
    "        text += pageObj.extractText()\n",
    "    #if text != \"\":\n",
    "    #   text = text\n",
    "    #else:\n",
    "    #   text = textract.process(filename, method='tesseract', language='eng')\n",
    "    tokens = word_tokenize(text)\n",
    "    punctuations = ['(',')','.','.,','-',';',':','[',']',',','\\n','?','!','=','==','<','>','@','#','$','%','^','&','*','.','//','{','}','...','``','+',\"''\"]\n",
    "    stop_words = stopwords.words('english')\n",
    "    keywords = [word for word in tokens if not word in stop_words and  not word in punctuations]\n",
    "    #print(keywords)\n",
    "    \n",
    "    new_dict = {}\n",
    "    for word in search_words:\n",
    "        cnt_of_words = keywords.count(word)\n",
    "        new_dict.update({word: cnt_of_words})\n",
    "    \n",
    "    return new_dict "
   ]
  },
  {
   "cell_type": "code",
   "execution_count": 14,
   "metadata": {},
   "outputs": [],
   "source": [
    "search_words = ['metal', 'ceramic', 'polymer', 'matrix', 'composite', 'composites',\n",
    "              'selective', 'laser', 'SLM', \n",
    "              'direct', 'sintering', 'DMLS', \n",
    "              'fused', 'deposition', 'modeling', 'FDM', \n",
    "              'filament', 'fabrication', 'FFF', \n",
    "              'extrusion', 'additive', 'manufacturing']"
   ]
  },
  {
   "cell_type": "code",
   "execution_count": 15,
   "metadata": {},
   "outputs": [
    {
     "name": "stdout",
     "output_type": "stream",
     "text": [
      "PDF ID: 0\n",
      "File name: The Effects of Processing Parameters on Defect Regularity in Ti-6Al-4V Parts Fabricated By Selective Laser Melting and Electron Beam Melting\n",
      "{'metal': 0, 'ceramic': 0, 'polymer': 0, 'matrix': 0, 'composite': 0, 'composites': 0, 'selective': 0, 'laser': 0, 'SLM': 3, 'direct': 0, 'sintering': 0, 'DMLS': 0, 'fused': 0, 'deposition': 0, 'modeling': 0, 'FDM': 0, 'filament': 0, 'fabrication': 0, 'FFF': 0, 'extrusion': 0, 'additive': 0, 'manufacturing': 0}\n",
      "\n",
      "\n",
      "PDF ID: 1\n",
      "File name: 3D Printed Glass Surface Finish and Bulk Properties as a Function of the Printing Process\n",
      "{'metal': 2, 'ceramic': 1, 'polymer': 0, 'matrix': 0, 'composite': 0, 'composites': 0, 'selective': 0, 'laser': 0, 'SLM': 0, 'direct': 1, 'sintering': 0, 'DMLS': 0, 'fused': 2, 'deposition': 0, 'modeling': 0, 'FDM': 0, 'filament': 0, 'fabrication': 0, 'FFF': 0, 'extrusion': 2, 'additive': 1, 'manufacturing': 3}\n",
      "\n",
      "\n",
      "PDF ID: 2\n",
      "File name: Numerical study on the effects of hierarchical wavy interface morphology on fracture toughness\n",
      "{'metal': 0, 'ceramic': 0, 'polymer': 0, 'matrix': 0, 'composite': 0, 'composites': 0, 'selective': 0, 'laser': 0, 'SLM': 0, 'direct': 0, 'sintering': 0, 'DMLS': 0, 'fused': 0, 'deposition': 0, 'modeling': 0, 'FDM': 0, 'filament': 0, 'fabrication': 0, 'FFF': 0, 'extrusion': 0, 'additive': 0, 'manufacturing': 0}\n",
      "\n",
      "\n",
      "PDF ID: 3\n",
      "File name: Comparison of Residual Stresses in Inconel 718 Simple Parts Made by Electron Beam Melting and Direct Laser Metal Sintering\n",
      "{'metal': 0, 'ceramic': 0, 'polymer': 0, 'matrix': 0, 'composite': 0, 'composites': 0, 'selective': 0, 'laser': 0, 'SLM': 0, 'direct': 0, 'sintering': 0, 'DMLS': 0, 'fused': 0, 'deposition': 0, 'modeling': 0, 'FDM': 0, 'filament': 0, 'fabrication': 1, 'FFF': 0, 'extrusion': 0, 'additive': 0, 'manufacturing': 0}\n",
      "\n",
      "\n",
      "PDF ID: 4\n",
      "File name: Fatigue characterization of Titanium Ti-6Al-4V samples produced by Additive Manufacturing\n",
      "{'metal': 0, 'ceramic': 0, 'polymer': 0, 'matrix': 0, 'composite': 0, 'composites': 0, 'selective': 0, 'laser': 0, 'SLM': 0, 'direct': 0, 'sintering': 0, 'DMLS': 0, 'fused': 0, 'deposition': 0, 'modeling': 0, 'FDM': 0, 'filament': 0, 'fabrication': 0, 'FFF': 0, 'extrusion': 0, 'additive': 0, 'manufacturing': 0}\n",
      "\n",
      "\n",
      "PDF ID: 5\n",
      "File name: Additive Manufacturing of Optically Transparent Glass\n",
      "{'metal': 0, 'ceramic': 0, 'polymer': 0, 'matrix': 0, 'composite': 0, 'composites': 0, 'selective': 0, 'laser': 0, 'SLM': 0, 'direct': 0, 'sintering': 0, 'DMLS': 0, 'fused': 0, 'deposition': 0, 'modeling': 0, 'FDM': 0, 'filament': 0, 'fabrication': 0, 'FFF': 0, 'extrusion': 0, 'additive': 0, 'manufacturing': 0}\n",
      "\n",
      "\n",
      "PDF ID: 6\n",
      "File name: Tensile properties of processed FDM polycarbonate material\n",
      "{'metal': 0, 'ceramic': 0, 'polymer': 0, 'matrix': 0, 'composite': 0, 'composites': 0, 'selective': 0, 'laser': 0, 'SLM': 0, 'direct': 0, 'sintering': 0, 'DMLS': 0, 'fused': 0, 'deposition': 0, 'modeling': 0, 'FDM': 0, 'filament': 0, 'fabrication': 0, 'FFF': 0, 'extrusion': 0, 'additive': 0, 'manufacturing': 0}\n",
      "\n",
      "\n",
      "PDF ID: 7\n",
      "File name: Functionally graded Inconel 718 processed by additive manufacturing Crystallographic texture, anisotropy of microstructure and mechanical properties\n",
      "{'metal': 0, 'ceramic': 0, 'polymer': 0, 'matrix': 1, 'composite': 0, 'composites': 0, 'selective': 0, 'laser': 0, 'SLM': 3, 'direct': 0, 'sintering': 0, 'DMLS': 0, 'fused': 0, 'deposition': 0, 'modeling': 0, 'FDM': 0, 'filament': 0, 'fabrication': 0, 'FFF': 0, 'extrusion': 0, 'additive': 0, 'manufacturing': 1}\n",
      "\n",
      "\n",
      "PDF ID: 8\n",
      "File name: Evaluations of cellular lattice structures manufactured using selective laser melting\n",
      "{'metal': 0, 'ceramic': 0, 'polymer': 0, 'matrix': 0, 'composite': 0, 'composites': 0, 'selective': 0, 'laser': 0, 'SLM': 3, 'direct': 0, 'sintering': 0, 'DMLS': 0, 'fused': 0, 'deposition': 0, 'modeling': 0, 'FDM': 0, 'filament': 0, 'fabrication': 0, 'FFF': 0, 'extrusion': 0, 'additive': 0, 'manufacturing': 0}\n",
      "\n",
      "\n",
      "PDF ID: 9\n",
      "File name: Fatigue-strength-of-blunt-V-notched-specimens-pro_2018_Theoretical-and-Appli\n",
      "{'metal': 0, 'ceramic': 0, 'polymer': 0, 'matrix': 0, 'composite': 0, 'composites': 0, 'selective': 0, 'laser': 0, 'SLM': 1, 'direct': 0, 'sintering': 0, 'DMLS': 0, 'fused': 0, 'deposition': 0, 'modeling': 0, 'FDM': 0, 'filament': 0, 'fabrication': 0, 'FFF': 0, 'extrusion': 0, 'additive': 0, 'manufacturing': 0}\n",
      "\n",
      "\n"
     ]
    }
   ],
   "source": [
    "pdf_id = 0\n",
    "for i in range(0, 10):\n",
    "    new_dict = {}\n",
    "    new_dict = KeywordSearchInPDF(read_pdfs[i], search_words)\n",
    "    print(\"PDF ID: {}\".format(pdf_id))\n",
    "    print(\"File name: {}\".format(pdf_files[i]))\n",
    "    print(new_dict)\n",
    "    print(\"\\n\")\n",
    "    pdf_id += 1"
   ]
  },
  {
   "cell_type": "code",
   "execution_count": null,
   "metadata": {},
   "outputs": [],
   "source": []
  }
 ],
 "metadata": {
  "kernelspec": {
   "display_name": "Python 3",
   "language": "python",
   "name": "python3"
  },
  "language_info": {
   "codemirror_mode": {
    "name": "ipython",
    "version": 3
   },
   "file_extension": ".py",
   "mimetype": "text/x-python",
   "name": "python",
   "nbconvert_exporter": "python",
   "pygments_lexer": "ipython3",
   "version": "3.7.4"
  }
 },
 "nbformat": 4,
 "nbformat_minor": 2
}
